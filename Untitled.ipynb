{
 "cells": [
  {
   "cell_type": "code",
   "execution_count": 469,
   "id": "76ab2e1f",
   "metadata": {},
   "outputs": [],
   "source": [
    "from sklearn import linear_model\n",
    "from sklearn.utils import shuffle\n",
    "from sklearn.model_selection import train_test_split\n",
    "from sklearn.metrics import accuracy_score\n",
    "import numpy as np\n",
    "import pandas as pd\n",
    "import math\n",
    "import joblib"
   ]
  },
  {
   "cell_type": "code",
   "execution_count": 24,
   "id": "70bf3512",
   "metadata": {},
   "outputs": [],
   "source": [
    "df1 = pd.read_csv( 'student-mat.csv', sep = \";\" )\n",
    "# Used 'sep' to specify ki values are seperated by semi colon and not comma(CSV means comma seperated values)\n",
    "df2 = pd.read_csv( 'student-por.csv', sep = \";\" )\n",
    "df_concat = pd.concat([df1, df2], ignore_index=True, verify_integrity=True, sort=True, copy=True)\n",
    "df_concat.to_csv(\"C:/Users/HJ_Home/Desktop/ML datasets/student age predictor/student-merged.csv\")\n",
    "break"
   ]
  },
  {
   "cell_type": "code",
   "execution_count": null,
   "id": "9fb6e696",
   "metadata": {},
   "outputs": [],
   "source": [
    "https://pandas.pydata.org/docs/reference/api/pandas.concat.html#pandas.concat\n",
    "https://datatofish.com/export-dataframe-to-csv/\n",
    "https://medium.com/@stella96joshua/how-to-combine-multiple-csv-files-using-python-for-your-analysis-a88017c6ff9e"
   ]
  },
  {
   "cell_type": "code",
   "execution_count": 558,
   "id": "2548cd4a",
   "metadata": {},
   "outputs": [
    {
     "data": {
      "text/plain": [
       "0.8766792739076488"
      ]
     },
     "execution_count": 558,
     "metadata": {},
     "output_type": "execute_result"
    }
   ],
   "source": [
    "df = pd.read_csv( 'student-merged.csv' )\n",
    "df = df[['G1', 'G2', 'G3', 'Medu', 'absences', 'failures', 'famrel', 'freetime', 'health', 'studytime', 'traveltime', 'age', \n",
    "         'Walc', 'Dalc', 'Fedu']]\n",
    "predict='G3'\n",
    "df.drop_duplicates(keep = 'first', inplace = True)\n",
    "X = df.drop(columns=[predict])\n",
    "y = df[predict]\n",
    "X_train, X_test, y_train, y_test = train_test_split(X, y, test_size=0.1)\n",
    "for _ in range(30):\n",
    "    best = score\n",
    "    X_train, X_test, y_train, y_test = train_test_split(X, y, test_size=0.1)\n",
    "    model = linear_model.LinearRegression()\n",
    "    model.fit(X_train, y_train)\n",
    "    score = model.score(X_test,y_test)\n",
    "    print(score)\n",
    "    if score > best:\n",
    "        joblib.dump(model, 'studentMarkPredictor.joblib')\n",
    "print(f\"Coeff\", model.coef_)\n",
    "print(f'Intercept', model.intercept_)"
   ]
  },
  {
   "cell_type": "code",
   "execution_count": 468,
   "id": "a1fafa82",
   "metadata": {},
   "outputs": [
    {
     "ename": "SyntaxError",
     "evalue": "invalid syntax (3344187196.py, line 4)",
     "output_type": "error",
     "traceback": [
      "\u001b[1;36m  Input \u001b[1;32mIn [468]\u001b[1;36m\u001b[0m\n\u001b[1;33m    for i in range (len(prediction))\u001b[0m\n\u001b[1;37m                                    ^\u001b[0m\n\u001b[1;31mSyntaxError\u001b[0m\u001b[1;31m:\u001b[0m invalid syntax\n"
     ]
    }
   ],
   "source": [
    "prediction = model.predict(X_test)\n",
    "prediction = np.floor(prediction)\n",
    "score=accuracy_score(y_test,prediction)"
   ]
  }
 ],
 "metadata": {
  "kernelspec": {
   "display_name": "Python 3 (ipykernel)",
   "language": "python",
   "name": "python3"
  },
  "language_info": {
   "codemirror_mode": {
    "name": "ipython",
    "version": 3
   },
   "file_extension": ".py",
   "mimetype": "text/x-python",
   "name": "python",
   "nbconvert_exporter": "python",
   "pygments_lexer": "ipython3",
   "version": "3.9.12"
  }
 },
 "nbformat": 4,
 "nbformat_minor": 5
}
