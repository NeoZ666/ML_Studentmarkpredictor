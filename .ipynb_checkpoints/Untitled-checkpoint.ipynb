{
 "cells": [
  {
   "cell_type": "code",
   "execution_count": 3,
   "id": "0fcc5ab8",
   "metadata": {},
   "outputs": [],
   "source": [
    "from sklearn import linear_model\n",
    "from sklearn.utils import shuffle\n",
    "import numpy as np\n",
    "import pandas as pd"
   ]
  },
  {
   "cell_type": "code",
   "execution_count": 24,
   "id": "0dc0c658",
   "metadata": {},
   "outputs": [],
   "source": [
    "df1 = pd.read_csv( 'student-mat.csv', sep = \";\" )\n",
    "# Used 'sep' to specify ki values are seperated by semi colon and not comma(CSV means comma seperated values)\n",
    "df2 = pd.read_csv( 'student-por.csv', sep = \";\" )\n",
    "df_concat = pd.concat([df1, df2], ignore_index=True, verify_integrity=True, sort=True, copy=True)\n",
    "df_concat.to_csv(\"C:/Users/HJ_Home/Desktop/ML datasets/student age predictor/student-merged.csv\")"
   ]
  },
  {
   "cell_type": "code",
   "execution_count": 25,
   "id": "fe0412c1",
   "metadata": {},
   "outputs": [
    {
     "ename": "SyntaxError",
     "evalue": "invalid syntax (84507613.py, line 1)",
     "output_type": "error",
     "traceback": [
      "\u001b[1;36m  Input \u001b[1;32mIn [25]\u001b[1;36m\u001b[0m\n\u001b[1;33m    https://pandas.pydata.org/docs/reference/api/pandas.concat.html#pandas.concat\u001b[0m\n\u001b[1;37m          ^\u001b[0m\n\u001b[1;31mSyntaxError\u001b[0m\u001b[1;31m:\u001b[0m invalid syntax\n"
     ]
    }
   ],
   "source": [
    "https://pandas.pydata.org/docs/reference/api/pandas.concat.html#pandas.concat\n",
    "https://datatofish.com/export-dataframe-to-csv/\n",
    "https://medium.com/@stella96joshua/how-to-combine-multiple-csv-files-using-python-for-your-analysis-a88017c6ff9e"
   ]
  },
  {
   "cell_type": "code",
   "execution_count": 26,
   "id": "bd6f9cf2",
   "metadata": {},
   "outputs": [],
   "source": [
    "df = pd.read_csv( 'student-merged.csv' )\n"
   ]
  },
  {
   "cell_type": "code",
   "execution_count": null,
   "id": "4aaa6fcf",
   "metadata": {},
   "outputs": [],
   "source": []
  }
 ],
 "metadata": {
  "kernelspec": {
   "display_name": "Python 3 (ipykernel)",
   "language": "python",
   "name": "python3"
  },
  "language_info": {
   "codemirror_mode": {
    "name": "ipython",
    "version": 3
   },
   "file_extension": ".py",
   "mimetype": "text/x-python",
   "name": "python",
   "nbconvert_exporter": "python",
   "pygments_lexer": "ipython3",
   "version": "3.9.12"
  }
 },
 "nbformat": 4,
 "nbformat_minor": 5
}
